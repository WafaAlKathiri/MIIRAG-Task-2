{
  "nbformat": 4,
  "nbformat_minor": 0,
  "metadata": {
    "colab": {
      "provenance": [],
      "gpuType": "T4"
    },
    "kernelspec": {
      "name": "python3",
      "display_name": "Python 3"
    },
    "language_info": {
      "name": "python"
    },
    "accelerator": "GPU"
  },
  "cells": [
    {
      "cell_type": "code",
      "source": [
        "#connecting to drive\n",
        "from google.colab import drive\n",
        "drive.mount('/content/drive')"
      ],
      "metadata": {
        "colab": {
          "base_uri": "https://localhost:8080/"
        },
        "id": "evyIa8Zj2f7j",
        "outputId": "fe0d6752-db6f-4f52-a897-71079d5eea6b"
      },
      "execution_count": 1,
      "outputs": [
        {
          "output_type": "stream",
          "name": "stdout",
          "text": [
            "Drive already mounted at /content/drive; to attempt to forcibly remount, call drive.mount(\"/content/drive\", force_remount=True).\n"
          ]
        }
      ]
    },
    {
      "cell_type": "code",
      "source": [
        "!nvidia-smi -L"
      ],
      "metadata": {
        "colab": {
          "base_uri": "https://localhost:8080/"
        },
        "id": "hQS9nTs14YsJ",
        "outputId": "64c8c0d3-e601-43df-9fd1-8b4b88f7b533"
      },
      "execution_count": 2,
      "outputs": [
        {
          "output_type": "stream",
          "name": "stdout",
          "text": [
            "GPU 0: Tesla T4 (UUID: GPU-dfe06d24-418c-048f-6f80-675a6f3da83e)\n"
          ]
        }
      ]
    },
    {
      "cell_type": "code",
      "source": [
        "!pip uninstall torch torchvision"
      ],
      "metadata": {
        "colab": {
          "base_uri": "https://localhost:8080/"
        },
        "id": "9_nGWGGD3q9F",
        "outputId": "4bd9a6ce-f2a6-4d86-f286-9dc485ae298e"
      },
      "execution_count": 3,
      "outputs": [
        {
          "output_type": "stream",
          "name": "stdout",
          "text": [
            "Found existing installation: torch 1.13.0\n",
            "Uninstalling torch-1.13.0:\n",
            "  Would remove:\n",
            "    /usr/local/bin/convert-caffe2-to-onnx\n",
            "    /usr/local/bin/convert-onnx-to-caffe2\n",
            "    /usr/local/bin/torchrun\n",
            "    /usr/local/lib/python3.11/dist-packages/functorch/*\n",
            "    /usr/local/lib/python3.11/dist-packages/torch-1.13.0.dist-info/*\n",
            "    /usr/local/lib/python3.11/dist-packages/torch/*\n",
            "    /usr/local/lib/python3.11/dist-packages/torchgen/*\n",
            "Proceed (Y/n)? Y\n",
            "  Successfully uninstalled torch-1.13.0\n",
            "Found existing installation: torchvision 0.1.6\n",
            "Uninstalling torchvision-0.1.6:\n",
            "  Would remove:\n",
            "    /usr/local/lib/python3.11/dist-packages/torchvision-0.1.6.dist-info/*\n",
            "    /usr/local/lib/python3.11/dist-packages/torchvision/*\n",
            "Proceed (Y/n)? Y\n",
            "  Successfully uninstalled torchvision-0.1.6\n"
          ]
        }
      ]
    },
    {
      "cell_type": "code",
      "source": [
        "!pip install torch===1.13.0 torchvision===0.1.6 -f https://download.pytorch.org/whl/torch_stable.html"
      ],
      "metadata": {
        "colab": {
          "base_uri": "https://localhost:8080/"
        },
        "id": "ITq-TeqC3trh",
        "outputId": "484fdb0a-c9c7-4bb9-9681-da09b5dba843"
      },
      "execution_count": 4,
      "outputs": [
        {
          "output_type": "stream",
          "name": "stdout",
          "text": [
            "Looking in links: https://download.pytorch.org/whl/torch_stable.html\n",
            "Collecting torch===1.13.0\n",
            "  Using cached torch-1.13.0-cp311-cp311-manylinux1_x86_64.whl.metadata (24 kB)\n",
            "Collecting torchvision===0.1.6\n",
            "  Using cached https://download.pytorch.org/whl/torchvision-0.1.6-py3-none-any.whl (16 kB)\n",
            "Requirement already satisfied: typing-extensions in /usr/local/lib/python3.11/dist-packages (from torch===1.13.0) (4.13.0)\n",
            "Requirement already satisfied: nvidia-cuda-runtime-cu11==11.7.99 in /usr/local/lib/python3.11/dist-packages (from torch===1.13.0) (11.7.99)\n",
            "Requirement already satisfied: nvidia-cudnn-cu11==8.5.0.96 in /usr/local/lib/python3.11/dist-packages (from torch===1.13.0) (8.5.0.96)\n",
            "Requirement already satisfied: nvidia-cublas-cu11==11.10.3.66 in /usr/local/lib/python3.11/dist-packages (from torch===1.13.0) (11.10.3.66)\n",
            "Requirement already satisfied: nvidia-cuda-nvrtc-cu11==11.7.99 in /usr/local/lib/python3.11/dist-packages (from torch===1.13.0) (11.7.99)\n",
            "Requirement already satisfied: setuptools in /usr/local/lib/python3.11/dist-packages (from nvidia-cublas-cu11==11.10.3.66->torch===1.13.0) (75.2.0)\n",
            "Requirement already satisfied: wheel in /usr/local/lib/python3.11/dist-packages (from nvidia-cublas-cu11==11.10.3.66->torch===1.13.0) (0.45.1)\n",
            "Using cached torch-1.13.0-cp311-cp311-manylinux1_x86_64.whl (890.2 MB)\n",
            "Installing collected packages: torchvision, torch\n",
            "\u001b[31mERROR: pip's dependency resolver does not currently take into account all the packages that are installed. This behaviour is the source of the following dependency conflicts.\n",
            "accelerate 1.5.2 requires torch>=2.0.0, but you have torch 1.13.0 which is incompatible.\n",
            "fastai 2.7.19 requires torchvision>=0.11, but you have torchvision 0.1.6 which is incompatible.\n",
            "torchaudio 2.6.0+cu124 requires torch==2.6.0, but you have torch 1.13.0 which is incompatible.\u001b[0m\u001b[31m\n",
            "\u001b[0mSuccessfully installed torch-1.13.0 torchvision-0.1.6\n"
          ]
        }
      ]
    },
    {
      "cell_type": "code",
      "source": [
        "import torch\n",
        "import torchvision"
      ],
      "metadata": {
        "id": "Kyrir2nd3v96"
      },
      "execution_count": 5,
      "outputs": []
    },
    {
      "cell_type": "code",
      "source": [
        "print(torch.__version__)"
      ],
      "metadata": {
        "colab": {
          "base_uri": "https://localhost:8080/"
        },
        "id": "UHhFHYmj3yY3",
        "outputId": "442dd729-eb76-4e4a-bd85-5215e146d882"
      },
      "execution_count": 6,
      "outputs": [
        {
          "output_type": "stream",
          "name": "stdout",
          "text": [
            "1.13.0+cu117\n"
          ]
        }
      ]
    },
    {
      "cell_type": "code",
      "source": [
        "torch.cuda.device_count()"
      ],
      "metadata": {
        "colab": {
          "base_uri": "https://localhost:8080/"
        },
        "id": "VPFDXiLf30fg",
        "outputId": "ea7c265b-f7fc-47dd-8de7-03e395177bd7"
      },
      "execution_count": 7,
      "outputs": [
        {
          "output_type": "execute_result",
          "data": {
            "text/plain": [
              "1"
            ]
          },
          "metadata": {},
          "execution_count": 7
        }
      ]
    },
    {
      "cell_type": "code",
      "source": [
        "!pip uninstall -y numpy\n",
        "!pip install numpy==1.24.4"
      ],
      "metadata": {
        "colab": {
          "base_uri": "https://localhost:8080/",
          "height": 409
        },
        "id": "ndLl7oq69Ej_",
        "outputId": "aa393125-ea26-42ab-a00c-e7119aac6c2b"
      },
      "execution_count": 8,
      "outputs": [
        {
          "output_type": "stream",
          "name": "stdout",
          "text": [
            "Found existing installation: numpy 1.24.4\n",
            "Uninstalling numpy-1.24.4:\n",
            "  Successfully uninstalled numpy-1.24.4\n",
            "Collecting numpy==1.24.4\n",
            "  Using cached numpy-1.24.4-cp311-cp311-manylinux_2_17_x86_64.manylinux2014_x86_64.whl.metadata (5.6 kB)\n",
            "Using cached numpy-1.24.4-cp311-cp311-manylinux_2_17_x86_64.manylinux2014_x86_64.whl (17.3 MB)\n",
            "Installing collected packages: numpy\n",
            "\u001b[31mERROR: pip's dependency resolver does not currently take into account all the packages that are installed. This behaviour is the source of the following dependency conflicts.\n",
            "jaxlib 0.5.1 requires numpy>=1.25, but you have numpy 1.24.4 which is incompatible.\n",
            "accelerate 1.5.2 requires torch>=2.0.0, but you have torch 1.13.0 which is incompatible.\n",
            "jax 0.5.2 requires numpy>=1.25, but you have numpy 1.24.4 which is incompatible.\n",
            "tensorflow 2.18.0 requires numpy<2.1.0,>=1.26.0, but you have numpy 1.24.4 which is incompatible.\n",
            "pymc 5.21.1 requires numpy>=1.25.0, but you have numpy 1.24.4 which is incompatible.\n",
            "blosc2 3.2.1 requires numpy>=1.26, but you have numpy 1.24.4 which is incompatible.\n",
            "treescope 0.1.9 requires numpy>=1.25.2, but you have numpy 1.24.4 which is incompatible.\n",
            "fastai 2.7.19 requires torchvision>=0.11, but you have torchvision 0.1.6 which is incompatible.\u001b[0m\u001b[31m\n",
            "\u001b[0mSuccessfully installed numpy-1.24.4\n"
          ]
        },
        {
          "output_type": "display_data",
          "data": {
            "application/vnd.colab-display-data+json": {
              "pip_warning": {
                "packages": [
                  "numpy"
                ]
              },
              "id": "f7fca5eaf6c74f518e82b6af68536186"
            }
          },
          "metadata": {}
        }
      ]
    },
    {
      "cell_type": "code",
      "source": [
        "import numpy as np"
      ],
      "metadata": {
        "id": "bq5oncRN9yYv"
      },
      "execution_count": 9,
      "outputs": []
    },
    {
      "cell_type": "code",
      "source": [
        "print(np.__version__)"
      ],
      "metadata": {
        "colab": {
          "base_uri": "https://localhost:8080/"
        },
        "id": "Ns9mxzcX92wv",
        "outputId": "58cb31d8-8993-4b4f-87c4-5c2e9f06af59"
      },
      "execution_count": 10,
      "outputs": [
        {
          "output_type": "stream",
          "name": "stdout",
          "text": [
            "1.24.4\n"
          ]
        }
      ]
    },
    {
      "cell_type": "code",
      "source": [
        "!git clone https://github.com/mariamhash/stylegan2-ada-pytorch.git"
      ],
      "metadata": {
        "colab": {
          "base_uri": "https://localhost:8080/"
        },
        "id": "YwDnviNw33hP",
        "outputId": "b6cc4f7a-13ba-4e9e-bed4-2e28006dc55f"
      },
      "execution_count": 11,
      "outputs": [
        {
          "output_type": "stream",
          "name": "stdout",
          "text": [
            "fatal: destination path 'stylegan2-ada-pytorch' already exists and is not an empty directory.\n"
          ]
        }
      ]
    },
    {
      "cell_type": "code",
      "source": [
        "%cd /content/stylegan2-ada-pytorch"
      ],
      "metadata": {
        "colab": {
          "base_uri": "https://localhost:8080/"
        },
        "id": "2pJPMtuO38Rr",
        "outputId": "4948a4bd-76bb-460d-d77f-4355b55ec7ea"
      },
      "execution_count": 12,
      "outputs": [
        {
          "output_type": "stream",
          "name": "stdout",
          "text": [
            "/content/stylegan2-ada-pytorch\n"
          ]
        }
      ]
    },
    {
      "cell_type": "code",
      "source": [
        "import cv2\n",
        "import numpy as np\n",
        "import random\n",
        "import torch\n",
        "import torchvision.transforms as transforms\n",
        "from PIL import Image\n",
        "import matplotlib.pyplot as plt\n",
        "from torchvision.utils import save_image\n",
        "import subprocess\n",
        "import os\n",
        "\n",
        "# Function to generate synthetic cracks using StyleGAN2-ADA\n",
        "def generate_synthetic_cracks(model_path, output_dir, seeds=\"0-10\"):\n",
        "    os.makedirs(output_dir, exist_ok=True)\n",
        "    command = [\n",
        "        \"python\", \"generate.py\",\n",
        "        \"--outdir\", output_dir,\n",
        "        \"--trunc\", \"1\",\n",
        "        \"--seeds\", seeds,\n",
        "        \"--network\", model_path\n",
        "    ]\n",
        "    subprocess.run(command, check=True)\n",
        "    return [os.path.join(output_dir, f) for f in os.listdir(output_dir) if f.endswith(\".png\")]\n",
        "\n",
        "# Load Binary Mask of Empty Spots\n",
        "def load_binary_mask(mask_path):\n",
        "    mask = cv2.imread(mask_path, cv2.IMREAD_GRAYSCALE)\n",
        "    _, binary_mask = cv2.threshold(mask, 127, 255, cv2.THRESH_BINARY)\n",
        "    empty_spots = cv2.bitwise_not(binary_mask)\n",
        "    return empty_spots\n",
        "\n",
        "# Remove white borders from all sides of an image\n",
        "def crop_white_borders(img):\n",
        "    gray = cv2.cvtColor(img, cv2.COLOR_BGR2GRAY)\n",
        "    _, thresh = cv2.threshold(gray, 250, 255, cv2.THRESH_BINARY)\n",
        "    coords = cv2.findNonZero(cv2.bitwise_not(thresh))\n",
        "    if coords is not None:\n",
        "        x, y, w, h = cv2.boundingRect(coords)\n",
        "        img = img[y:y+h, x:x+w]\n",
        "    return img\n",
        "\n",
        "# Load and Resize GAN-Generated Crack\n",
        "def load_synthetic_crack(crack_path, size=(128, 128)):\n",
        "    crack = cv2.imread(crack_path, cv2.IMREAD_UNCHANGED)\n",
        "    crack = crop_white_borders(crack)\n",
        "    crack = cv2.resize(crack, size)\n",
        "    return crack\n",
        "\n",
        "# Find Random Empty Spot to Place Crack\n",
        "def find_empty_spot(empty_spots, crack_size):\n",
        "    h, w = empty_spots.shape\n",
        "    ch, cw = crack_size\n",
        "    for _ in range(100):  # Try 100 random positions\n",
        "        x = random.randint(0, w - cw)\n",
        "        y = random.randint(0, h - ch)\n",
        "        region = empty_spots[y:y+ch, x:x+cw]\n",
        "        if np.mean(region) > 250:  # Check if mostly empty\n",
        "            return x, y\n",
        "    return None\n",
        "\n",
        "# Poisson Blending for seamless integration\n",
        "def poisson_blend(crack_patch, road_patch, mask):\n",
        "    center = (road_patch.shape[1] // 2, road_patch.shape[0] // 2)\n",
        "    blended = cv2.seamlessClone(crack_patch, road_patch, mask, center, cv2.MIXED_CLONE)\n",
        "    return blended\n",
        "\n",
        "# Main Function\n",
        "def add_synthetic_cracks(road_image_path, mask_path, model_path, output_dir=\"generated_cracks\"):\n",
        "    road_image = cv2.imread(road_image_path)\n",
        "    empty_spots = load_binary_mask(mask_path)\n",
        "    crack_paths = generate_synthetic_cracks(model_path, output_dir)\n",
        "\n",
        "    for crack_path in crack_paths:\n",
        "        crack = load_synthetic_crack(crack_path)\n",
        "        position = find_empty_spot(empty_spots, crack.shape[:2])\n",
        "        if position:\n",
        "            x, y = position\n",
        "            road_patch = road_image[y:y+crack.shape[0], x:x+crack.shape[1]]\n",
        "            crack_gray = cv2.cvtColor(crack, cv2.COLOR_BGR2GRAY)\n",
        "            _, mask = cv2.threshold(crack_gray, 10, 255, cv2.THRESH_BINARY)\n",
        "            mask = cv2.merge([mask, mask, mask])\n",
        "            blended_patch = poisson_blend(crack, road_patch, mask)\n",
        "            road_image[y:y+crack.shape[0], x:x+crack.shape[1]] = blended_patch\n",
        "    return road_image\n",
        "\n",
        "# ------------------------------\n",
        "# Example Usage\n",
        "# ------------------------------\n",
        "road_image_path = \"/content/drive/MyDrive/Colab_Notebooks/ZAKA_AIC/Capstone_Project/Attachment/Copy_of_4.png\"\n",
        "mask_path = \"/content/drive/MyDrive/Colab_Notebooks/ZAKA_AIC/Capstone_Project/Attachment/Mask_of_4.png\"\n",
        "model_path = \"/content/drive/MyDrive/Colab_Notebooks/ZAKA_AIC/Capstone_Project/c2-network-snapshot-000120.pkl\"\n",
        "\n",
        "result_image = add_synthetic_cracks(road_image_path, mask_path, model_path)\n",
        "cv2.imwrite(\"/content/drive/MyDrive/Colab_Notebooks/ZAKA_AIC/Capstone_Project/Attachment/result_with_synthetic_cracks_P1.png\", result_image)\n"
      ],
      "metadata": {
        "colab": {
          "base_uri": "https://localhost:8080/"
        },
        "id": "tDYyAva72YcZ",
        "outputId": "a90d35a7-a565-4b23-9873-2b665c1c9f48"
      },
      "execution_count": 24,
      "outputs": [
        {
          "output_type": "execute_result",
          "data": {
            "text/plain": [
              "True"
            ]
          },
          "metadata": {},
          "execution_count": 24
        }
      ]
    }
  ]
}